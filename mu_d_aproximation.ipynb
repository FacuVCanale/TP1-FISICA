{
 "cells": [
  {
   "cell_type": "markdown",
   "metadata": {},
   "source": [
    "### En el grupo está cómo calculé estas functiones"
   ]
  },
  {
   "cell_type": "code",
   "execution_count": 1,
   "metadata": {},
   "outputs": [],
   "source": [
    "import matplotlib.pyplot as plt\n",
    "import numpy as np"
   ]
  },
  {
   "cell_type": "code",
   "execution_count": 2,
   "metadata": {},
   "outputs": [],
   "source": [
    "g = 9.81 * 100 / (1000 * 1000) # m/s^2 a cm/(ms^2)\n",
    "\n",
    "def get_mu_d(a, M, m, g=g):\n",
    "    return ( a * (m + M) + M*g ) / ( m*g )\n",
    "\n",
    "\n",
    "def get_error_mu_d(M, m, a, dM, dm, da, g=9.81):\n",
    "    mu_d = (M * g + (m + M) * a) / (m * g)\n",
    "    \n",
    "    # Partial derivatives\n",
    "    d_mu_d_M = (g + a) / (m * g)\n",
    "    d_mu_d_m = -mu_d / m\n",
    "    d_mu_d_a = (m + M) / (m * g)\n",
    "    \n",
    "    # Error propagation\n",
    "    error_mu_d = np.sqrt((d_mu_d_M * dM)**2 + (d_mu_d_m * dm)**2 + (d_mu_d_a * da)**2)\n",
    "    \n",
    "    return error_mu_d"
   ]
  },
  {
   "cell_type": "code",
   "execution_count": 3,
   "metadata": {},
   "outputs": [],
   "source": [
    "TRINEO = 110 # g\n",
    "DTRINEO = 1 # g\n",
    "\n",
    "PLATA = 23 # g\n",
    "DPLATA = 1 # g\n",
    "\n",
    "MADERA = 6 # g\n",
    "DMADERA = 1 # g\n",
    "\n",
    "ORO = 72 # g\n",
    "DORO = 1 # g"
   ]
  },
  {
   "cell_type": "markdown",
   "metadata": {},
   "source": [
    "### Mu dinámico para Mesa"
   ]
  },
  {
   "cell_type": "code",
   "execution_count": 4,
   "metadata": {},
   "outputs": [
    {
     "name": "stdout",
     "output_type": "stream",
     "text": [
      "mu_d1 = 0.46196624759315885 +- 0.01259096029554206\n",
      "mu_d2 = 0.2657427288698029 +- 0.011332210913287434\n"
     ]
    }
   ],
   "source": [
    "g = 9.81 * 100 / (1000 * 1000)  # Convert g to cm/ms^2\n",
    "\n",
    "\n",
    "# Dos Plata y Madera Arriba, Oro Abajo\n",
    "m1 = 2 * PLATA + MADERA + TRINEO\n",
    "dm1 = 2 * DPLATA + DMADERA + DTRINEO\n",
    "M1 = ORO\n",
    "dM1 = DORO\n",
    "\n",
    "# Intento 1\n",
    "a11 = 1.19 * 10**(-5)\n",
    "da11 = 4.9 * 10**(-6)\n",
    "\n",
    "mu_d1 = get_mu_d(a11, M1, m1)\n",
    "dmu_d1 = get_error_mu_d(M1, m1, a11, dM1, dm1, da11)\n",
    "\n",
    "# Intento 2\n",
    "## FIX DATA\n",
    "\n",
    "# Madera y Oro Arriba, Dos Plata Abajo\n",
    "m2 = MADERA + ORO + TRINEO\n",
    "dm2 = DMADERA + DORO + DTRINEO\n",
    "M2 = 2 * PLATA\n",
    "dM2 = 2 * DPLATA\n",
    "\n",
    "# Intento 2\n",
    "a21 = 1.66 * 10**(-5)\n",
    "da21 = 9.46 * 10**(-7)\n",
    "\n",
    "mu_d2 = get_mu_d(a21, M2, m2)\n",
    "dmu_d2 = get_error_mu_d(M2, m2, a21, dM2, dm2, da21)\n",
    "\n",
    "print(f\"mu_d1 = {mu_d1} +- {dmu_d1}\")\n",
    "print(f\"mu_d2 = {mu_d2} +- {dmu_d2}\")\n"
   ]
  },
  {
   "cell_type": "code",
   "execution_count": 10,
   "metadata": {},
   "outputs": [
    {
     "name": "stderr",
     "output_type": "stream",
     "text": [
      "<>:6: SyntaxWarning: invalid escape sequence '\\m'\n",
      "<>:6: SyntaxWarning: invalid escape sequence '\\m'\n",
      "C:\\Users\\xxx\\AppData\\Local\\Temp\\ipykernel_22380\\2288969766.py:6: SyntaxWarning: invalid escape sequence '\\m'\n",
      "  ax.set_ylabel('$\\mu_d$')\n"
     ]
    }
   ],
   "source": [
    "def plot_mus_d_with_error_bar(mus_d, sigmas_mus_d):\n",
    "    fig, ax = plt.subplots()\n",
    "\n",
    "    ax.errorbar(range(len(mus_d)), mus_d, yerr=sigmas_mus_d, fmt='o', label='Datos experimentales')\n",
    "    ax.set_xlabel('Intento')\n",
    "    ax.set_ylabel('$\\mu_d$')\n",
    "    \n",
    "    # Set x-axis ticks to be integers\n",
    "    ax.set_xticks(range(len(mus_d)))\n",
    "    \n",
    "    # Add grid\n",
    "    ax.grid(True)\n",
    "    \n",
    "    # Add legend\n",
    "    ax.legend()\n",
    "    \n",
    "    plt.show()"
   ]
  },
  {
   "cell_type": "code",
   "execution_count": 6,
   "metadata": {},
   "outputs": [],
   "source": [
    "import pandas as pd\n",
    "from scipy.optimize import curve_fit\n",
    "import numpy as np\n",
    "\n",
    "def format_pd(data, intento):\n",
    "\n",
    "    data = data[data[\"Intento\"] == intento].copy() \n",
    "\n",
    "    # Esto es para que arranque en 365 una vez (lo hizo chat obviamente)\n",
    "    mask = (data['x'] != 365.00) | (data['x'].shift(-1) != 365.00)\n",
    "\n",
    "    data = data[mask]\n",
    "\n",
    "    # Arranca en t = 0\n",
    "    data[\"t\"] = data[\"t\"] - data[\"t\"].min()\n",
    "\n",
    "    data = data.drop(columns=[\"Intento\"])\n",
    "    \n",
    "    return data\n",
    "\n",
    "def modelo_cuadratico(t, a, b, c):\n",
    "    return a * t**2 + b * t + c\n",
    "\n",
    "# FUNCIONES SACADAS DE CALIBRACIÓN\n",
    "\n",
    "def distancia(v):\n",
    "    return 0.0178*v - 1.2753\n",
    "\n",
    "def sigma_d(v):\n",
    "    return 0.0007*v + 1.1673\n",
    "\n",
    "def f_propagacion_errores(t, popt, errores_x):\n",
    "    \"\"\"\n",
    "    Function to propagate the errors based on the fit parameters and x-axis errors.\n",
    "    \n",
    "    Parameters:\n",
    "    t (array-like): Independent variable (time) data points\n",
    "    popt (array-like): Fitted parameters from curve_fit\n",
    "    errores_x (array-like): Error values for the independent variable data points (x-axis)\n",
    "    \n",
    "    Returns:\n",
    "    sigma_d_t (array-like): Propagated uncertainty in the dependent variable (y-axis)\n",
    "    \"\"\"\n",
    "    a, b, c = popt\n",
    "    # Error propagation formula for quadratic fit\n",
    "    sigma_d_t = np.sqrt((2 * a * t + b) ** 2 * errores_x ** 2)\n",
    "    return sigma_d_t\n",
    "\n",
    "g = 9.81 * 100 / (1000 * 1000)  # Convert g to cm/ms^2"
   ]
  },
  {
   "cell_type": "code",
   "execution_count": 11,
   "metadata": {},
   "outputs": [
    {
     "name": "stdout",
     "output_type": "stream",
     "text": [
      "[0.08809526653377536, 0.14553030325482771, 0.06565182191115784, 0.06122235606539679, 0.09780093336322561, 0.09733423511390701]\n",
      "[0.0067550577395533275, 0.006755094596147363, 0.0054760709929490645, 0.005476068593551568, 0.007955845990683188, 0.007955845625911007]\n"
     ]
    },
    {
     "data": {
      "image/png": "[encoded data removed]",
      "text/plain": [
       "<Figure size 640x480 with 1 Axes>"
      ]
     },
     "metadata": {},
     "output_type": "display_data"
    }
   ],
   "source": [
    "# HACER ESTO PARA CADA TIPO DE SUPERFICIE   \n",
    "datasets = [\n",
    "    { \"file\" : 'data_dosplataymadera_oro.csv', \"m\" : 110 + 2 * 23 + 6, \"M\" : 72 },\n",
    "    { \"file\" : 'data_maderayoro_dosplata.csv', \"m\" : 110 + 6 + 72, \"M\" : 2 * 23 },\n",
    "    { \"file\" : 'data_plata_dosplata.csv', \"m\" : 110 + 23, \"M\" : 2 * 23}\n",
    "]\n",
    "\n",
    "mus_d = []\n",
    "errors_mu_d = []\n",
    "\n",
    "for dataset in datasets:\n",
    "    for i in range(1,3):\n",
    "        data = pd.read_csv(dataset[\"file\"])\n",
    "        data = format_pd(data, i)\n",
    "        M, m = dataset[\"M\"], dataset[\"m\"]\n",
    "        # se lo sacó copilot del orto\n",
    "        tiempo = data[\"t\"].values\n",
    "        posicion = distancia(data[\"x\"].values)\n",
    "        errores = sigma_d(data[\"x\"].values)\n",
    "\n",
    "        # Fit the quadratic model to the data\n",
    "        popt, pcov = curve_fit(modelo_cuadratico, tiempo, posicion, sigma=errores, absolute_sigma=True)\n",
    "\n",
    "        # Extract the fitted parameters and their uncertainties\n",
    "        a, _, _ = popt\n",
    "        error_a = np.sqrt(np.diag(pcov))[0]    \n",
    "        \n",
    "        mu = (M * g) + ( m + M ) * a / (m * g)\n",
    "        error_mu = get_error_mu_d(M, m, a, 1, 1, error_a)\n",
    "        mus_d.append(mu)\n",
    "        errors_mu_d.append(error_mu)\n",
    "\n",
    "print(mus_d)\n",
    "print(errors_mu_d)\n",
    "\n",
    "plot_mus_d_with_error_bar(mus_d, errors_mu_d)"
   ]
  },
  {
   "cell_type": "markdown",
   "metadata": {},
   "source": [
    "# Gráfico de relación entre rozamiento dinámico y M / m\n",
    "\n",
    "$$\n",
    "\n",
    "\\mu_d = \\frac{M g + (m + M) \\ddot{x}}{m g}\n",
    "$$"
   ]
  },
  {
   "cell_type": "code",
   "execution_count": 8,
   "metadata": {},
   "outputs": [],
   "source": [
    "\n",
    "# Calcular aceleración\n",
    "\n",
    "datasets = [\n",
    "    { \"file\" : 'data_dosplataymadera_oro.csv', \"m\" : 110 + 2 * 23 + 6, \"M\" : 72 },\n",
    "    { \"file\" : 'data_maderayoro_dosplata.csv', \"m\" : 110 + 6 + 72, \"M\" : 2 * 23 },\n",
    "    { \"file\" : 'data_plata_dosplata.csv', \"m\" : 110 + 23, \"M\" : 2 * 23}\n",
    "]\n",
    "\n",
    "M_m_ratios = [dataset[\"M\"] / dataset['m'] for dataset in datasets + datasets]\n",
    "mu_d = []\n",
    "error_mu_d = []\n",
    "\n",
    "for dataset in datasets:\n",
    "    for i in range(1,3):\n",
    "        data = pd.read_csv(dataset[\"file\"])\n",
    "        data = format_pd(data, i)\n",
    "        M, m = dataset[\"M\"], dataset[\"m\"]\n",
    "        # se lo sacó copilot del orto\n",
    "        tiempo = data[\"t\"].values\n",
    "        posicion = distancia(data[\"x\"].values)\n",
    "        errores = sigma_d(data[\"x\"].values)\n",
    "\n",
    "        # Fit the quadratic model to the data\n",
    "        popt, pcov = curve_fit(modelo_cuadratico, tiempo, posicion, sigma=errores, absolute_sigma=True)\n",
    "\n",
    "        # Extract the fitted parameters and their uncertainties\n",
    "        a, _, _ = popt\n",
    "        error_a = np.sqrt(np.diag(pcov))[0]    \n",
    "        \n",
    "        mu = (M * g) + ( m + M ) * a / (m * g)\n",
    "        error_mu = get_error_mu_d(M, m, a, 1, 1, error_a)\n",
    "        mu_d.append(mu)\n",
    "        error_mu_d.append(error_mu)\n"
   ]
  },
  {
   "cell_type": "code",
   "execution_count": 9,
   "metadata": {},
   "outputs": [
    {
     "data": {
      "image/png": "[encoded data removed]",
      "text/plain": [
       "<Figure size 800x600 with 1 Axes>"
      ]
     },
     "metadata": {},
     "output_type": "display_data"
    }
   ],
   "source": [
    "import matplotlib.pyplot as plt\n",
    "\n",
    "sorted_indices = np.argsort(M_m_ratios)\n",
    "M_m_ratios_sorted = np.array(M_m_ratios)[sorted_indices]\n",
    "mu_d_sorted = np.array(mu_d)[sorted_indices]\n",
    "error_mu_d = np.array(error_mu_d)[sorted_indices]\n",
    "\n",
    "# Plotting the results\n",
    "plt.figure(figsize=(8, 6))\n",
    "plt.errorbar(M_m_ratios_sorted, mu_d_sorted, yerr=error_mu_d, fmt='o', label='Datos experimentales')\n",
    "plt.xlabel('Ratio de masa (M/m)')\n",
    "plt.ylabel('(μ_d)')\n",
    "plt.grid(True)\n",
    "plt.legend()\n",
    "plt.show()\n",
    "\n",
    " # Quedó muy raro esto, después debugeo"
   ]
  }
 ],
 "metadata": {
  "kernelspec": {
   "display_name": "Python 3",
   "language": "python",
   "name": "python3"
  },
  "language_info": {
   "codemirror_mode": {
    "name": "ipython",
    "version": 3
   },
   "file_extension": ".py",
   "mimetype": "text/x-python",
   "name": "python",
   "nbconvert_exporter": "python",
   "pygments_lexer": "ipython3",
   "version": "3.12.3"
  }
 },
 "nbformat": 4,
 "nbformat_minor": 2
}

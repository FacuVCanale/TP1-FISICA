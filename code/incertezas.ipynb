{
 "cells": [
  {
   "cell_type": "code",
   "execution_count": 8,
   "metadata": {},
   "outputs": [],
   "source": [
    "import math\n",
    "import numpy as np\n",
    "import matplotlib.pyplot as plt\n",
    "import pandas as pd"
   ]
  },
  {
   "cell_type": "code",
   "execution_count": 9,
   "metadata": {},
   "outputs": [],
   "source": [
    "dicc = {}\n",
    "rm = 1\n",
    "drm = 0.1\n",
    "dicc[\"drm\"] = 0.1"
   ]
  },
  {
   "cell_type": "code",
   "execution_count": 10,
   "metadata": {},
   "outputs": [],
   "source": [
    "def error_propagation_tita_from_rm_L(L, dL):\n",
    "    return math.sqrt((L / (drm**2 + L**2))**2 + (rm / (dL**2 + rm**2))**2)"
   ]
  },
  {
   "cell_type": "code",
   "execution_count": 11,
   "metadata": {},
   "outputs": [],
   "source": [
    "def gen_dθr(L):\n",
    "    return math.atan(rm/L) #+ error_propagation_tita_from_rm_L(L, 0.1)"
   ]
  },
  {
   "cell_type": "code",
   "execution_count": 12,
   "metadata": {},
   "outputs": [],
   "source": [
    "def gen_dicc_with_deltas(dicc, data):\n",
    "    #data is a pandas dataframe with columns t, x, y, r, tita\n",
    "    dicc[\"dx\"] = 0.1\n",
    "    dicc[\"dy\"] = 0.1\n",
    "    dicc[\"dr\"] = 0.1\n",
    "    dicc[\"dt\"] = 1/30\n",
    "    L = data[\"r\"].mean()\n",
    "    dicc[\"dθr\"] = gen_dθr(L)\n",
    "    dicc[\"dθ0\"] = dicc[\"dθr\"]"
   ]
  },
  {
   "cell_type": "code",
   "execution_count": 13,
   "metadata": {},
   "outputs": [
    {
     "name": "stdout",
     "output_type": "stream",
     "text": [
      "{'drm': 0.1}\n",
      "{'drm': 0.1, 'dx': 0.1, 'dy': 0.1, 'dr': 0.1, 'dt': 0.03333333333333333, 'dθr': 0.019619282589691873, 'dθ0': 0.019619282589691873}\n"
     ]
    }
   ],
   "source": [
    "print(dicc)\n",
    "data = pd.read_csv(\"../datasets/plata l0/plata35.csv\")\n",
    "gen_dicc_with_deltas(dicc, data)\n",
    "print(dicc)"
   ]
  },
  {
   "cell_type": "code",
   "execution_count": 14,
   "metadata": {},
   "outputs": [
    {
     "ename": "NameError",
     "evalue": "name 'format_pd' is not defined",
     "output_type": "error",
     "traceback": [
      "\u001b[0;31m---------------------------------------------------------------------------\u001b[0m",
      "\u001b[0;31mNameError\u001b[0m                                 Traceback (most recent call last)",
      "\u001b[1;32m/Users/juanfra/Documents/Facultad/2do Año - 2do Cuatri/Fisica I/TPs/TP1-FISICA/code/incertezas.ipynb Cell 7\u001b[0m line \u001b[0;36m1\n\u001b[0;32m----> <a href='vscode-notebook-cell:/Users/juanfra/Documents/Facultad/2do%20An%CC%83o%20-%202do%20Cuatri/Fisica%20I/TPs/TP1-FISICA/code/incertezas.ipynb#W6sZmlsZQ%3D%3D?line=0'>1</a>\u001b[0m f_data \u001b[39m=\u001b[39m format_pd(data\u001b[39m=\u001b[39mdata, intento\u001b[39m=\u001b[39m\u001b[39m1\u001b[39m)\n\u001b[1;32m      <a href='vscode-notebook-cell:/Users/juanfra/Documents/Facultad/2do%20An%CC%83o%20-%202do%20Cuatri/Fisica%20I/TPs/TP1-FISICA/code/incertezas.ipynb#W6sZmlsZQ%3D%3D?line=2'>3</a>\u001b[0m \u001b[39m# Extract time and position data\u001b[39;00m\n\u001b[1;32m      <a href='vscode-notebook-cell:/Users/juanfra/Documents/Facultad/2do%20An%CC%83o%20-%202do%20Cuatri/Fisica%20I/TPs/TP1-FISICA/code/incertezas.ipynb#W6sZmlsZQ%3D%3D?line=3'>4</a>\u001b[0m tiempo \u001b[39m=\u001b[39m f_data[\u001b[39m\"\u001b[39m\u001b[39mt\u001b[39m\u001b[39m\"\u001b[39m]\u001b[39m.\u001b[39mvalues\n",
      "\u001b[0;31mNameError\u001b[0m: name 'format_pd' is not defined"
     ]
    }
   ],
   "source": [
    "f_data = format_pd(data=data, intento=1)\n",
    "\n",
    "# Extract time and position data\n",
    "tiempo = f_data[\"t\"].values\n",
    "posicion = distancia(f_data[\"x\"].values)\n",
    "errores_y = sigma_d(f_data[\"x\"].values)\n",
    "errores_x = np.full_like(tiempo, 20)  # Assuming a constant error in time\n",
    "\n",
    "# Fit the quadratic model to the data\n",
    "popt, pcov = curve_fit(modelo_cuadratico, tiempo, posicion, sigma=errores_y, absolute_sigma=True)\n",
    "\n",
    "# Extract the fitted parameters and their uncertainties\n",
    "a, b, c = popt\n",
    "errores = np.sqrt(np.diag(pcov))\n",
    "\n",
    "# Propagate errors\n",
    "sigma_d_t = f_propagacion_errores(tiempo, popt, errores_x)\n",
    "\n",
    "# Create a smoother time range for plotting the fitted curve\n",
    "t_ajuste = np.linspace(min(tiempo), max(tiempo), 500)\n",
    "\n",
    "# Use predefined labels for each dataset\n",
    "label = dataset[\"label\"]\n",
    "\n",
    "# Plot the data points with error bars\n",
    "plt.errorbar(tiempo, posicion, xerr=errores_x, yerr=errores_y, fmt='o', color=dataset[\"color\"])\n",
    "\n",
    "# Plot the quadratic fit\n",
    "plt.plot(t_ajuste, modelo_cuadratico(t_ajuste, *popt), color=dataset[\"color\"], linestyle='-')\n",
    "\n",
    "# Plot the uncertainty bands\n",
    "plt.fill_between(tiempo, \n",
    "                    modelo_cuadratico(tiempo, *popt) + sigma_d_t + errores_y, \n",
    "                    modelo_cuadratico(tiempo, *popt) - sigma_d_t - errores_y, \n",
    "                    color=dataset[\"color\"], alpha=0.3)\n",
    "\n",
    "# Label the dataset as a legend\n",
    "plt.errorbar([], [], color=dataset[\"color\"], label=label)\n",
    "\n",
    "# Save the fitted parameters and their uncertainties\n",
    "popts.append(popt)\n",
    "erroress.append(errores)"
   ]
  }
 ],
 "metadata": {
  "kernelspec": {
   "display_name": "Python 3",
   "language": "python",
   "name": "python3"
  },
  "language_info": {
   "codemirror_mode": {
    "name": "ipython",
    "version": 3
   },
   "file_extension": ".py",
   "mimetype": "text/x-python",
   "name": "python",
   "nbconvert_exporter": "python",
   "pygments_lexer": "ipython3",
   "version": "3.12.2"
  }
 },
 "nbformat": 4,
 "nbformat_minor": 2
}

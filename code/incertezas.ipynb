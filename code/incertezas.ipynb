{
 "cells": [
  {
   "cell_type": "code",
   "execution_count": 1,
   "metadata": {},
   "outputs": [],
   "source": [
    "import math\n",
    "import numpy as np\n",
    "import matplotlib.pyplot as plt\n",
    "import pandas as pd"
   ]
  },
  {
   "cell_type": "code",
   "execution_count": 2,
   "metadata": {},
   "outputs": [],
   "source": [
    "dicc = {}\n",
    "rm = 1\n",
    "drm = 0.1\n",
    "dicc[\"drm\"] = 0.1"
   ]
  },
  {
   "cell_type": "code",
   "execution_count": 3,
   "metadata": {},
   "outputs": [],
   "source": [
    "def error_propagation_tita_from_rm_L(L, dL):\n",
    "    return math.sqrt((L / (drm**2 + L**2))**2 + (rm / (dL**2 + rm**2))**2)"
   ]
  },
  {
   "cell_type": "code",
   "execution_count": 4,
   "metadata": {},
   "outputs": [],
   "source": [
    "def gen_dθr(L):\n",
    "    return math.atan(rm/L) #+ error_propagation_tita_from_rm_L(L, 0.1)"
   ]
  },
  {
   "cell_type": "code",
   "execution_count": 5,
   "metadata": {},
   "outputs": [],
   "source": [
    "def gen_dicc_with_deltas(dicc, data):\n",
    "    #data is a pandas dataframe with columns t, x, y, r, tita\n",
    "    dicc[\"dx\"] = 0.1\n",
    "    dicc[\"dy\"] = 0.1\n",
    "    dicc[\"dr\"] = 0.1\n",
    "    dicc[\"dt\"] = 1/30\n",
    "    L = data[\"r\"].mean()\n",
    "    dicc[\"dθr\"] = gen_dθr(L)\n",
    "    dicc[\"dθ0\"] = dicc[\"dθr\"]"
   ]
  },
  {
   "cell_type": "code",
   "execution_count": 6,
   "metadata": {},
   "outputs": [
    {
     "name": "stdout",
     "output_type": "stream",
     "text": [
      "{'drm': 0.1}\n",
      "{'drm': 0.1, 'dx': 0.1, 'dy': 0.1, 'dr': 0.1, 'dt': 0.03333333333333333, 'dθr': 0.01961932845206364}\n"
     ]
    }
   ],
   "source": [
    "print(dicc)\n",
    "data = pd.read_csv(\"../datasets/plata l0/plata35.csv\")\n",
    "gen_dicc_with_deltas(dicc, data)\n",
    "print(dicc)"
   ]
  }
 ],
 "metadata": {
  "kernelspec": {
   "display_name": "Python 3",
   "language": "python",
   "name": "python3"
  },
  "language_info": {
   "codemirror_mode": {
    "name": "ipython",
    "version": 3
   },
   "file_extension": ".py",
   "mimetype": "text/x-python",
   "name": "python",
   "nbconvert_exporter": "python",
   "pygments_lexer": "ipython3",
   "version": "3.12.3"
  }
 },
 "nbformat": 4,
 "nbformat_minor": 2
}

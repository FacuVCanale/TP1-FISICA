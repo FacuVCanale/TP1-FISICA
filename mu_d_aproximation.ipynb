{
 "cells": [
  {
   "cell_type": "markdown",
   "metadata": {},
   "source": [
    "### En el grupo está cómo calculé estas functiones"
   ]
  },
  {
   "cell_type": "code",
   "execution_count": 3,
   "metadata": {},
   "outputs": [],
   "source": [
    "import matplotlib.pyplot as plt\n",
    "import numpy as np"
   ]
  },
  {
   "cell_type": "code",
   "execution_count": 4,
   "metadata": {},
   "outputs": [],
   "source": [
    "g = 9.81 * 100 / (1000 * 1000) # m/s^2 a cm/(ms^2)\n",
    "\n",
    "def get_mu_d(a, M, m, g=g):\n",
    "    return (2*a+M*g)/(m*g)\n",
    "\n",
    "def get_error_mu_d(a, M, m, da, dM, dm, g=g):\n",
    "    return (2*(1 - dm * g) * a + (1 - dm * g) * M * g + 2 * da + dM * g) / (dm*m*g*g)"
   ]
  },
  {
   "cell_type": "code",
   "execution_count": 5,
   "metadata": {},
   "outputs": [],
   "source": [
    "TRINEO = 110 # g\n",
    "DTRINEO = 1 # g\n",
    "\n",
    "PLATA = 23 # g\n",
    "DPLATA = 1 # g\n",
    "\n",
    "MADERA = 6 # g\n",
    "DMADERA = 1 # g\n",
    "\n",
    "ORO = 72 # g\n",
    "DORO = 1 # g"
   ]
  },
  {
   "cell_type": "markdown",
   "metadata": {},
   "source": [
    "### Mu dinámico para Mesa"
   ]
  },
  {
   "cell_type": "code",
   "execution_count": 6,
   "metadata": {},
   "outputs": [],
   "source": [
    "# Dos Plata y Madera Arriba, Oro Abajo\n",
    "m1 = 2 * PLATA + MADERA + TRINEO\n",
    "dm1 = 2 * DPLATA + DMADERA + DTRINEO\n",
    "M1 = ORO\n",
    "dM1 = DORO\n",
    "\n",
    "# Intento 1\n",
    "a11 = 1.19 * 10**(-5)\n",
    "da11 = 4.9 * 10**(-6)\n",
    "\n",
    "# Intento 2\n",
    "## FIX DATA\n",
    "\n",
    "# Madera y Oro Arriba, Dos Plata Abajo\n",
    "m2 = MADERA + ORO + TRINEO\n",
    "dm2 = DMADERA + DORO + DTRINEO\n",
    "M2 = 2 * PLATA\n",
    "dM2 = 2 * DPLATA\n",
    "\n",
    "# Intento 1\n",
    "a21 = 1.66 * 10**(-5)\n",
    "da21 = 9.46 * 10**(-7)\n",
    "\n"
   ]
  },
  {
   "cell_type": "code",
   "execution_count": 11,
   "metadata": {},
   "outputs": [
    {
     "name": "stderr",
     "output_type": "stream",
     "text": [
      "<>:6: SyntaxWarning: invalid escape sequence '\\m'\n",
      "<>:6: SyntaxWarning: invalid escape sequence '\\m'\n",
      "C:\\Users\\xxx\\AppData\\Local\\Temp\\ipykernel_10156\\2710081417.py:6: SyntaxWarning: invalid escape sequence '\\m'\n",
      "  ax.set_ylabel('$\\mu_d$')\n"
     ]
    }
   ],
   "source": [
    "def plot_mus_d_with_error_bar(mus_d, sigmas_mus_d):\n",
    "    fig, ax = plt.subplots()\n",
    "\n",
    "    ax.errorbar(range(len(mus_d)), mus_d, yerr=sigmas_mus_d, fmt='o')\n",
    "    ax.set_xlabel('Intento')\n",
    "    ax.set_ylabel('$\\mu_d$')\n",
    "    \n",
    "    # Set x-axis ticks to be integers\n",
    "    ax.set_xticks(range(len(mus_d)))\n",
    "    \n",
    "    plt.show()"
   ]
  },
  {
   "cell_type": "code",
   "execution_count": 10,
   "metadata": {},
   "outputs": [
    {
     "data": {
      "image/png": "[encoded data removed]",
      "text/plain": [
       "<Figure size 640x480 with 1 Axes>"
      ]
     },
     "metadata": {},
     "output_type": "display_data"
    }
   ],
   "source": [
    "# HACER ESTO PARA CADA TIPO DE SUPERFICIE   \n",
    "mus_d = [get_mu_d(a11, M1, m1), get_mu_d(a21, M2, m2)]\n",
    "sigmas_mus_d = [get_error_mu_d(a11, M1, m1, da11, dM1, dm1), get_error_mu_d(a21, M2, m2, da21, dM2, dm2)]\n",
    "\n",
    "plot_mus_d_with_error_bar(mus_d, sigmas_mus_d)"
   ]
  }
 ],
 "metadata": {
  "kernelspec": {
   "display_name": "Python 3",
   "language": "python",
   "name": "python3"
  },
  "language_info": {
   "codemirror_mode": {
    "name": "ipython",
    "version": 3
   },
   "file_extension": ".py",
   "mimetype": "text/x-python",
   "name": "python",
   "nbconvert_exporter": "python",
   "pygments_lexer": "ipython3",
   "version": "3.12.3"
  }
 },
 "nbformat": 4,
 "nbformat_minor": 2
}
